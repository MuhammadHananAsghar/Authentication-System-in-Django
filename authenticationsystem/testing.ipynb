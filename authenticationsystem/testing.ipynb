{
 "cells": [
  {
   "cell_type": "code",
   "execution_count": 1,
   "metadata": {},
   "outputs": [],
   "source": [
    "from datetime import timedelta, datetime"
   ]
  },
  {
   "cell_type": "code",
   "execution_count": 2,
   "metadata": {},
   "outputs": [
    {
     "data": {
      "text/plain": [
       "datetime.datetime(2022, 6, 27, 3, 5, 6, 994264)"
      ]
     },
     "execution_count": 2,
     "metadata": {},
     "output_type": "execute_result"
    }
   ],
   "source": [
    "datetime.now()"
   ]
  },
  {
   "cell_type": "code",
   "execution_count": 5,
   "metadata": {},
   "outputs": [],
   "source": [
    "five_mins = datetime.now() + timedelta(minutes=5)"
   ]
  },
  {
   "cell_type": "code",
   "execution_count": 6,
   "metadata": {},
   "outputs": [
    {
     "data": {
      "text/plain": [
       "datetime.datetime(2022, 6, 27, 3, 10, 50, 913032)"
      ]
     },
     "execution_count": 6,
     "metadata": {},
     "output_type": "execute_result"
    }
   ],
   "source": [
    "five_mins"
   ]
  },
  {
   "cell_type": "code",
   "execution_count": 10,
   "metadata": {},
   "outputs": [
    {
     "data": {
      "text/plain": [
       "True"
      ]
     },
     "execution_count": 10,
     "metadata": {},
     "output_type": "execute_result"
    }
   ],
   "source": [
    "five_mins > datetime.now()"
   ]
  },
  {
   "cell_type": "code",
   "execution_count": 29,
   "metadata": {},
   "outputs": [],
   "source": [
    "EMAIL_USE_TLS = True  \n",
    "EMAIL_HOST = 'smtp.gmail.com'  \n",
    "EMAIL_HOST_USER = 'hhajsjgytfgs@gmail.com'  \n",
    "EMAIL_HOST_PASSWORD = 'gphsmqzqpzmshmxb'  \n",
    "RECIEVER_EMAIL = \"muhammadhananasghar@gmail.com\"\n",
    "EMAIL_PORT = 587 "
   ]
  },
  {
   "cell_type": "code",
   "execution_count": 30,
   "metadata": {},
   "outputs": [],
   "source": [
    "import smtplib\n",
    "from email.mime.multipart import MIMEMultipart\n",
    "from email.mime.text import MIMEText"
   ]
  },
  {
   "cell_type": "code",
   "execution_count": 34,
   "metadata": {},
   "outputs": [],
   "source": [
    "def send_email(token):\n",
    "    mail_content = f'''\n",
    "    This verification is only valid for 5 minutes.\n",
    "\n",
    "    Code: {token}\n",
    "\n",
    "    Copy this url in browser:\n",
    "    http://localhost:3000/verify\n",
    "    '''\n",
    "\n",
    "    #Setup the MIME\n",
    "    message = MIMEMultipart()\n",
    "    message['From'] = EMAIL_HOST_USER\n",
    "    message['To'] = RECIEVER_EMAIL\n",
    "    message['Subject'] = 'Verificaion Email - Muhammad Hanan Asghar'\n",
    "\n",
    "    session = smtplib.SMTP(EMAIL_HOST, EMAIL_PORT)\n",
    "    session.ehlo()\n",
    "    session.starttls()\n",
    "    session.ehlo()\n",
    "    session.login(EMAIL_HOST_USER, EMAIL_HOST_PASSWORD)\n",
    "\n",
    "    message.attach(MIMEText(mail_content, 'plain'))\n",
    "    text = message.as_string()\n",
    "    session.sendmail(EMAIL_HOST_USER, RECIEVER_EMAIL, text)\n",
    "    session.quit()\n",
    "    print('Mail Sent')"
   ]
  },
  {
   "cell_type": "code",
   "execution_count": 35,
   "metadata": {},
   "outputs": [],
   "source": [
    "import random"
   ]
  },
  {
   "cell_type": "code",
   "execution_count": 36,
   "metadata": {},
   "outputs": [],
   "source": [
    "def token_generator():\n",
    "    token =\"\"\n",
    "    nums = [i for i in range(10)]\n",
    "    for _ in range(10):\n",
    "        token += str(random.choice(nums))\n",
    "    return token "
   ]
  },
  {
   "cell_type": "code",
   "execution_count": 40,
   "metadata": {},
   "outputs": [
    {
     "data": {
      "text/plain": [
       "'4947105109'"
      ]
     },
     "execution_count": 40,
     "metadata": {},
     "output_type": "execute_result"
    }
   ],
   "source": [
    "token_generator()"
   ]
  },
  {
   "cell_type": "code",
   "execution_count": 41,
   "metadata": {},
   "outputs": [
    {
     "name": "stdout",
     "output_type": "stream",
     "text": [
      "Mail Sent\n"
     ]
    }
   ],
   "source": [
    "send_email(token_generator())"
   ]
  },
  {
   "cell_type": "code",
   "execution_count": null,
   "metadata": {},
   "outputs": [],
   "source": []
  }
 ],
 "metadata": {
  "kernelspec": {
   "display_name": "Python 3.9.7 ('sultan')",
   "language": "python",
   "name": "python3"
  },
  "language_info": {
   "codemirror_mode": {
    "name": "ipython",
    "version": 3
   },
   "file_extension": ".py",
   "mimetype": "text/x-python",
   "name": "python",
   "nbconvert_exporter": "python",
   "pygments_lexer": "ipython3",
   "version": "3.9.7"
  },
  "orig_nbformat": 4,
  "vscode": {
   "interpreter": {
    "hash": "3e7b58007910334c28076fd0d5600e0ec701d50a799d6411e1df4ddee4aca385"
   }
  }
 },
 "nbformat": 4,
 "nbformat_minor": 2
}
